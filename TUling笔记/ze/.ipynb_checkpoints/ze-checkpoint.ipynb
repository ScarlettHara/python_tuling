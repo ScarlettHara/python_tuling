{
 "cells": [
  {
   "cell_type": "code",
   "execution_count": 21,
   "metadata": {},
   "outputs": [
    {
     "name": "stdout",
     "output_type": "stream",
     "text": [
      "hello yy hello hell\n",
      "hell\n",
      "l\n",
      "hello yy hello hell\n",
      "hello yy hello hell\n",
      "hell\n",
      "l\n"
     ]
    },
    {
     "data": {
      "text/plain": [
       "('hell', 'l')"
      ]
     },
     "execution_count": 21,
     "metadata": {},
     "output_type": "execute_result"
    }
   ],
   "source": [
    "import re\n",
    "str = 'hello yy hello hell'\n",
    "patt = '(hell).+(l$)'\n",
    "re_com = re.compile(patt)\n",
    "m = re_com.match(str)\n",
    "print(m[0])\n",
    "print(m[1])\n",
    "print(m[2])\n",
    "\n",
    "print(m.group())\n",
    "print(m.group(0))\n",
    "print(m.group(1))\n",
    "print(m.group(2))\n",
    "m.groups()"
   ]
  }
 ],
 "metadata": {
  "kernelspec": {
   "display_name": "Python 3",
   "language": "python",
   "name": "python3"
  },
  "language_info": {
   "codemirror_mode": {
    "name": "ipython",
    "version": 3
   },
   "file_extension": ".py",
   "mimetype": "text/x-python",
   "name": "python",
   "nbconvert_exporter": "python",
   "pygments_lexer": "ipython3",
   "version": "3.7.0"
  }
 },
 "nbformat": 4,
 "nbformat_minor": 2
}
