{
 "cells": [
  {
   "cell_type": "code",
   "execution_count": 2,
   "metadata": {},
   "outputs": [
    {
     "name": "stdout",
     "output_type": "stream",
     "text": [
      "hello yy hel\n",
      "hell\n",
      "l\n",
      "##################################################\n",
      "hello yy hel\n",
      "hello yy hel\n",
      "hell\n",
      "l\n",
      "##################################################\n",
      "(0, 12)\n",
      "0\n",
      "12\n"
     ]
    }
   ],
   "source": [
    "import re\n",
    "str = 'hello yy hello hell'\n",
    "patt = '(hell).+?(l)'\n",
    "re_com = re.compile(patt)\n",
    "m = re_com.match(str)\n",
    "print(m[0])\n",
    "print(m[1])\n",
    "print(m[2])\n",
    "print('#'*50)\n",
    "\n",
    "print(m.group())\n",
    "print(m.group(0))\n",
    "print(m.group(1))\n",
    "print(m.group(2))\n",
    "m.groups()\n",
    "print('#'*50)\n",
    "\n",
    "print(m.span())\n",
    "print(m.start())\n",
    "print(m.end())"
   ]
  },
  {
   "cell_type": "code",
   "execution_count": null,
   "metadata": {},
   "outputs": [],
   "source": []
  },
  {
   "cell_type": "code",
   "execution_count": null,
   "metadata": {},
   "outputs": [],
   "source": []
  }
 ],
 "metadata": {
  "kernelspec": {
   "display_name": "Python 3",
   "language": "python",
   "name": "python3"
  },
  "language_info": {
   "codemirror_mode": {
    "name": "ipython",
    "version": 3
   },
   "file_extension": ".py",
   "mimetype": "text/x-python",
   "name": "python",
   "nbconvert_exporter": "python",
   "pygments_lexer": "ipython3",
   "version": "3.7.0"
  }
 },
 "nbformat": 4,
 "nbformat_minor": 2
}
