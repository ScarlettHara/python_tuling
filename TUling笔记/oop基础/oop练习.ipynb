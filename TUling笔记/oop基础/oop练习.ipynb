{
 "cells": [
  {
   "cell_type": "code",
   "execution_count": 5,
   "metadata": {},
   "outputs": [
    {
     "name": "stdout",
     "output_type": "stream",
     "text": [
      "2016 a4 2016\n",
      "This car has 0 miles on it\n",
      "\n",
      "after one day\n",
      "This car has 23 miles on it\n",
      "{'make': 'audi', 'model': 'a4', 'year': '2016', 'odometer': 23}\n"
     ]
    }
   ],
   "source": [
    "class Car:\n",
    "    \"\"\"一次模拟汽车的简单尝试\"\"\"\n",
    "\n",
    "    def __init__(self, make, model, year):\n",
    "        \"\"\"初始化描述汽车的属性\"\"\"\n",
    "        self.make = make\n",
    "        self.model = model\n",
    "        self.year = year\n",
    "        \"\"\"属性的默认值\"\"\"\n",
    "        self.odometer = 0\n",
    "\n",
    "    def get_descriptive_name(self):\n",
    "        \"\"\"返回整洁的描述性信息\"\"\"\n",
    "        long_name = \"{0} {1} {2}\".format(self.year, self.model, self.year)\n",
    "        return long_name\n",
    "\n",
    "    def read_odometer(self):\n",
    "        print(\"This car has\",str(self.odometer),\"miles on it\")\n",
    "\n",
    "\n",
    "if __name__ == '__main__':\n",
    "    my_new_car = Car('audi', 'a4', '2016')\n",
    "    print(my_new_car.get_descriptive_name())\n",
    "    my_new_car.read_odometer()\n",
    "\n",
    "    \"\"\"修改属性的值\"\"\"\n",
    "    my_new_car.odometer = 23\n",
    "    print(\"\\nafter one day\")\n",
    "    my_new_car.read_odometer()\n",
    "    \n",
    "    print(my_new_car.__dict__)"
   ]
  },
  {
   "cell_type": "code",
   "execution_count": null,
   "metadata": {},
   "outputs": [
    {
     "data": {
      "text/plain": [
       "<bound method Root.yy of <__main__.Root object at 0x0000021A61B99CF8>>"
      ]
     },
     "execution_count": 12,
     "metadata": {},
     "output_type": "execute_result"
    }
   ],
   "source": [
    "class Root:\n",
    "    name = \"yy\"\n",
    "    age = 18\n",
    "    def yy():\n",
    "        print(self.name)\n",
    "root = Root()\n",
    "root.name\n",
    "# root.yy\n",
    "\n",
    "        "
   ]
  },
  {
   "cell_type": "code",
   "execution_count": 13,
   "metadata": {},
   "outputs": [
    {
     "name": "stdout",
     "output_type": "stream",
     "text": [
      "define object\n"
     ]
    }
   ],
   "source": [
    "class Root:\n",
    "    def __init__(self):\n",
    "        print(\"define object\")\n",
    "root = Root()"
   ]
  },
  {
   "cell_type": "code",
   "execution_count": 38,
   "metadata": {},
   "outputs": [
    {
     "name": "stdout",
     "output_type": "stream",
     "text": [
      "yy\n"
     ]
    },
    {
     "ename": "AttributeError",
     "evalue": "'Son' object has no attribute 'name'",
     "output_type": "error",
     "traceback": [
      "\u001b[1;31m---------------------------------------------------------------------------\u001b[0m",
      "\u001b[1;31mAttributeError\u001b[0m                            Traceback (most recent call last)",
      "\u001b[1;32m<ipython-input-38-350cc9c260a0>\u001b[0m in \u001b[0;36m<module>\u001b[1;34m()\u001b[0m\n\u001b[0;32m     17\u001b[0m \u001b[0myy\u001b[0m \u001b[1;33m=\u001b[0m \u001b[0mSon\u001b[0m\u001b[1;33m(\u001b[0m\u001b[1;34m\"yy\"\u001b[0m\u001b[1;33m)\u001b[0m\u001b[1;33m\u001b[0m\u001b[0m\n\u001b[0;32m     18\u001b[0m \u001b[0mprint\u001b[0m\u001b[1;33m(\u001b[0m\u001b[0myy\u001b[0m\u001b[1;33m.\u001b[0m\u001b[0mtail\u001b[0m\u001b[1;33m)\u001b[0m\u001b[1;33m\u001b[0m\u001b[0m\n\u001b[1;32m---> 19\u001b[1;33m \u001b[0myy\u001b[0m\u001b[1;33m.\u001b[0m\u001b[0moo\u001b[0m\u001b[1;33m(\u001b[0m\u001b[1;36m100\u001b[0m\u001b[1;33m)\u001b[0m\u001b[1;33m\u001b[0m\u001b[0m\n\u001b[0m\u001b[0;32m     20\u001b[0m \u001b[1;33m\u001b[0m\u001b[0m\n",
      "\u001b[1;32m<ipython-input-38-350cc9c260a0>\u001b[0m in \u001b[0;36moo\u001b[1;34m(self, sorce)\u001b[0m\n\u001b[0;32m     11\u001b[0m     \u001b[1;32mdef\u001b[0m \u001b[0moo\u001b[0m\u001b[1;33m(\u001b[0m\u001b[0mself\u001b[0m\u001b[1;33m,\u001b[0m\u001b[0msorce\u001b[0m\u001b[1;33m)\u001b[0m\u001b[1;33m:\u001b[0m\u001b[1;33m\u001b[0m\u001b[0m\n\u001b[0;32m     12\u001b[0m         \u001b[1;32mif\u001b[0m \u001b[0msorce\u001b[0m \u001b[1;33m>=\u001b[0m\u001b[1;36m90\u001b[0m\u001b[1;33m:\u001b[0m\u001b[1;33m\u001b[0m\u001b[0m\n\u001b[1;32m---> 13\u001b[1;33m             \u001b[0msuper\u001b[0m\u001b[1;33m(\u001b[0m\u001b[1;33m)\u001b[0m\u001b[1;33m.\u001b[0m\u001b[0mpp\u001b[0m\u001b[1;33m(\u001b[0m\u001b[1;33m)\u001b[0m\u001b[1;33m\u001b[0m\u001b[0m\n\u001b[0m\u001b[0;32m     14\u001b[0m         \u001b[1;32melse\u001b[0m\u001b[1;33m:\u001b[0m\u001b[1;33m\u001b[0m\u001b[0m\n\u001b[0;32m     15\u001b[0m             \u001b[0mprint\u001b[0m\u001b[1;33m(\u001b[0m\u001b[1;34m\"not good\"\u001b[0m\u001b[1;33m)\u001b[0m\u001b[1;33m\u001b[0m\u001b[0m\n",
      "\u001b[1;32m<ipython-input-38-350cc9c260a0>\u001b[0m in \u001b[0;36mpp\u001b[1;34m(self)\u001b[0m\n\u001b[0;32m      4\u001b[0m         \u001b[0mself\u001b[0m\u001b[1;33m.\u001b[0m\u001b[0mage\u001b[0m \u001b[1;33m=\u001b[0m\u001b[0mage\u001b[0m\u001b[1;33m\u001b[0m\u001b[0m\n\u001b[0;32m      5\u001b[0m     \u001b[1;32mdef\u001b[0m \u001b[0mpp\u001b[0m\u001b[1;33m(\u001b[0m\u001b[0mself\u001b[0m\u001b[1;33m)\u001b[0m\u001b[1;33m:\u001b[0m\u001b[1;33m\u001b[0m\u001b[0m\n\u001b[1;32m----> 6\u001b[1;33m         \u001b[0mprint\u001b[0m\u001b[1;33m(\u001b[0m\u001b[1;34m\"very good %s\"\u001b[0m \u001b[1;33m%\u001b[0m \u001b[0mself\u001b[0m\u001b[1;33m.\u001b[0m\u001b[0mname\u001b[0m \u001b[1;33m)\u001b[0m\u001b[1;33m\u001b[0m\u001b[0m\n\u001b[0m\u001b[0;32m      7\u001b[0m \u001b[1;33m\u001b[0m\u001b[0m\n\u001b[0;32m      8\u001b[0m \u001b[1;32mclass\u001b[0m \u001b[0mSon\u001b[0m\u001b[1;33m(\u001b[0m\u001b[0mFather\u001b[0m\u001b[1;33m)\u001b[0m\u001b[1;33m:\u001b[0m\u001b[1;33m\u001b[0m\u001b[0m\n",
      "\u001b[1;31mAttributeError\u001b[0m: 'Son' object has no attribute 'name'"
     ]
    }
   ],
   "source": [
    "class Father:\n",
    "    def __init__(self,name,age):\n",
    "        self.name = name\n",
    "        self.age =age\n",
    "    def pp(self):\n",
    "        print(\"very good %s\" % self.name )\n",
    "\n",
    "class Son(Father):\n",
    "    def __init__(self,tail):\n",
    "        self.tail = tail\n",
    "    def oo(self,sorce):\n",
    "        if sorce >=90:\n",
    "            super().pp()\n",
    "        else:\n",
    "            print(\"not good\")\n",
    "            \n",
    "yy = Son(\"yy\")\n",
    "print(yy.tail)\n",
    "yy.oo(100)\n",
    "        \n"
   ]
  },
  {
   "cell_type": "code",
   "execution_count": 44,
   "metadata": {},
   "outputs": [
    {
     "name": "stdout",
     "output_type": "stream",
     "text": [
      "Root\n",
      "Yy\n"
     ]
    }
   ],
   "source": [
    "class Root:\n",
    "    def __init__(self,name):\n",
    "        self.name = name\n",
    "        print(\"Root\")\n",
    "\n",
    "class Yy(Root):\n",
    "    def __init__(self,name):\n",
    "        super().__init__(name)\n",
    "        print(\"Yy\")\n",
    "        \n",
    "yy = Yy(\"yy\")\n"
   ]
  },
  {
   "cell_type": "code",
   "execution_count": null,
   "metadata": {},
   "outputs": [],
   "source": []
  },
  {
   "cell_type": "code",
   "execution_count": 11,
   "metadata": {},
   "outputs": [
    {
     "name": "stdout",
     "output_type": "stream",
     "text": [
      "apache can fly\n",
      "pp\n"
     ]
    }
   ],
   "source": [
    "class Bird:\n",
    "    def __init__(self,name):\n",
    "        self.name = name\n",
    "        \n",
    "    def action(self):\n",
    "        print(\"%s can fly\" % self.name)\n",
    "    def pp():\n",
    "        print(\"pp\")\n",
    "\n",
    "class Plane:\n",
    "    def __init__(self,name):\n",
    "        self.name = name\n",
    "        self.Bird = Bird(name)\n",
    "\n",
    "a = Plane(\"apache\")\n",
    "a.Bird.action()\n",
    "Bird.pp()"
   ]
  },
  {
   "cell_type": "code",
   "execution_count": 6,
   "metadata": {},
   "outputs": [
    {
     "name": "stdout",
     "output_type": "stream",
     "text": [
      "* * \n",
      "*   * \n",
      "*   * \n",
      "* * \n"
     ]
    }
   ],
   "source": [
    "for i in range(1,5):\n",
    "    for j in range(1,4):\n",
    "        if i == 1 or i == 4 or j == 1:\n",
    "            if j < 3:\n",
    "                print('*',end=' ')\n",
    "        elif j == 3:\n",
    "            if i == 2 or i ==3:\n",
    "                print(\"*\",end=\" \")\n",
    "        else:\n",
    "            print(\" \",end=\" \")\n",
    "    print()"
   ]
  }
 ],
 "metadata": {
  "kernelspec": {
   "display_name": "Python 3",
   "language": "python",
   "name": "python3"
  },
  "language_info": {
   "codemirror_mode": {
    "name": "ipython",
    "version": 3
   },
   "file_extension": ".py",
   "mimetype": "text/x-python",
   "name": "python",
   "nbconvert_exporter": "python",
   "pygments_lexer": "ipython3",
   "version": "3.7.0"
  }
 },
 "nbformat": 4,
 "nbformat_minor": 2
}
